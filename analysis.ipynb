{
  "cells": [
    {
      "metadata": {
        "_uuid": "8f2839f25d086af736a60e9eeb907d3b93b6e0e5",
        "_cell_guid": "b1076dfc-b9ad-4769-8c92-a6c4dae69d19",
        "trusted": true
      },
      "cell_type": "code",
      "source": "import numpy as np # linear algebra\nimport pandas as pd # data processing, CSV file I/O (e.g. pd.read_csv)\nimport warnings\nwarnings.simplefilter(action='ignore', category=FutureWarning)\n\ndf = pd.read_csv(\"../input/master.csv\")\ndf.describe()",
      "execution_count": null,
      "outputs": []
    },
    {
      "metadata": {
        "trusted": true,
        "_uuid": "ffe1cc936f0120161736fb8c5b0e0a3cc619b038"
      },
      "cell_type": "code",
      "source": "import missingno as msno\n\n# HDI has a much smaller count than the rest, this may mean it's highly null.\n# let's visualize the nullity of our matrix\nax = msno.matrix(df)",
      "execution_count": null,
      "outputs": []
    },
    {
      "metadata": {
        "trusted": true,
        "_uuid": "39f157f83566e22f51bd297ac8f26038a342ad08"
      },
      "cell_type": "code",
      "source": "df2 = df.groupby(\n    ['sex','country','age','year']\n).first()[\n    ['suicides_no','population']\n].unstack().transpose()\n\ndf2",
      "execution_count": null,
      "outputs": []
    },
    {
      "metadata": {
        "trusted": true,
        "_uuid": "a744ec6083a857e0d18b55e755ce90276a23c63e"
      },
      "cell_type": "code",
      "source": "import seaborn as sns\nfrom matplotlib import pyplot as plt\npd.options.mode.chained_assignment = None\n\nfig, axes = plt.subplots(nrows=3, ncols=1, figsize=(20,20))\n\n# Base Plot: Suicides by gender across all countries\ngrouped = df.groupby(['country','year','sex']).agg({\n        'suicides_no':['sum'],\n        'population':['sum']\n    }) \n\ngrouped['suicide_rate'] = grouped[('suicides_no','sum')]/grouped[('population','sum')]*100000\ngrouped = grouped['suicide_rate'].reset_index()\n_ = sns.lineplot(data=grouped,x='year',y='suicide_rate',hue='sex', alpha=0.5, ax=axes[0])\n\n# First Plot: Suicides by age group over time\nusa = df[df['country']=='United States']\nmen = usa[usa['sex']=='male']\nmale_suicides_by_age = men.pivot(index='year',columns='age',values='suicides/100k pop')\nmale_suicides_by_age.plot(title=\"Male Suicides per 10k by age group\", ax=axes[1])\n\n# Second Plot: Longitudinal View of Suicides by Generation\n\nage_map = {\n    '75+ years':75,\n    '55-74 years': 55,\n    '25-34 years': 25,\n    '35-54 years': 35,\n    '15-24 years': 15,\n    '5-14 years' : 5\n}\n\nmen.loc[:,'age_int'] = men.loc[:,'age'].apply(lambda x: age_map[x])\ngrouped_men = men.groupby(['generation','age_int']).agg({\n    'suicides_no':['sum'],\n    'population':['sum']\n})\n\ngrouped_men['suicide_rate'] = grouped_men['suicides_no']/grouped_men['population']*100000\nax2 = grouped_men['suicide_rate'].reset_index().pivot(\n    index='age_int',columns='generation',values='suicide_rate'\n).plot(title=\"Suicide Rates by Generation as they Age\", ax=axes[2])\n\nfig.tight_layout()\nplt.show()",
      "execution_count": null,
      "outputs": []
    },
    {
      "metadata": {
        "trusted": true,
        "_uuid": "5323ea54f48dd32572ef80cab53b238276993a31"
      },
      "cell_type": "markdown",
      "source": "## What are the countries that are anomalies?\nWe use DBScan to cluster the male and female suicide rates by country (we have 101 timeseries of each!)\n\nFirst, we need to fill the null values.."
    },
    {
      "metadata": {
        "trusted": true,
        "_uuid": "2df20648fd9b9f00e9b192326b118ebbfff1aca4"
      },
      "cell_type": "code",
      "source": "from sklearn.cluster import DBSCAN\n\nmen = grouped[grouped['sex']=='male']\nmen_pivoted = men.pivot(index='year',columns='country',values='suicide_rate')\nmen_pivoted\n# clustering = DBSCAN(eps=3, min_samples=2).fit(men_pivoted)\n# clustering.labels_",
      "execution_count": null,
      "outputs": []
    },
    {
      "metadata": {
        "trusted": true,
        "_uuid": "320b39404467b56724c2aeabab246afc9cd53ddc"
      },
      "cell_type": "code",
      "source": "# #####################\n# Multiple Imputation #\n#######################\n\n# Linear interpolation\n\nfor country, values in men_pivoted.items():\n    print(key, value)\n    \n# k-NN \n\n# Regression",
      "execution_count": null,
      "outputs": []
    },
    {
      "metadata": {
        "trusted": true,
        "_uuid": "1bd798280a4dccf9eeb452905eb6a5a44a93c4a8"
      },
      "cell_type": "code",
      "source": "df[df['country']=='Antigua and Barbuda']",
      "execution_count": null,
      "outputs": []
    },
    {
      "metadata": {
        "trusted": true,
        "_uuid": "c8bc3c20d9e10062c7ec4dde9546c5968198128b"
      },
      "cell_type": "code",
      "source": "",
      "execution_count": null,
      "outputs": []
    }
  ],
  "metadata": {
    "kernelspec": {
      "display_name": "Python 3",
      "language": "python",
      "name": "python3"
    },
    "language_info": {
      "name": "python",
      "version": "3.6.6",
      "mimetype": "text/x-python",
      "codemirror_mode": {
        "name": "ipython",
        "version": 3
      },
      "pygments_lexer": "ipython3",
      "nbconvert_exporter": "python",
      "file_extension": ".py"
    }
  },
  "nbformat": 4,
  "nbformat_minor": 1
}